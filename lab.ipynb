{
 "cells": [
  {
   "cell_type": "markdown",
   "metadata": {},
   "source": [
    "Lab-1"
   ]
  },
  {
   "cell_type": "code",
   "execution_count": 3,
   "metadata": {},
   "outputs": [
    {
     "name": "stdout",
     "output_type": "stream",
     "text": [
      "2\n",
      "1\n",
      "2\n",
      "1\n"
     ]
    }
   ],
   "source": [
    "print(2%3)\n",
    "print(7%3)\n",
    "print(-7%3)\n",
    "print(-2%3)"
   ]
  },
  {
   "cell_type": "code",
   "execution_count": 4,
   "metadata": {},
   "outputs": [
    {
     "name": "stdout",
     "output_type": "stream",
     "text": [
      "1\n"
     ]
    }
   ],
   "source": [
    "def egcd(a,b):\n",
    "    r1=max(a,b)\n",
    "    r2=min(a,b)\n",
    "    if r2!=0:\n",
    "        q=r1//r2\n",
    "        r=r1%r2\n",
    "        r1=r2\n",
    "        r2=r\n",
    "        return egcd(r1,r2)\n",
    "    return r1\n",
    "if __name__=='__main__':\n",
    "    print(egcd(9,26))"
   ]
  },
  {
   "cell_type": "code",
   "execution_count": 1,
   "metadata": {},
   "outputs": [
    {
     "name": "stdout",
     "output_type": "stream",
     "text": [
      "8\n"
     ]
    }
   ],
   "source": [
    "x,y=0,1\n",
    "def gcd(a,b):\n",
    "    global x,y\n",
    "    if (a==0):\n",
    "        x=0\n",
    "        y=1\n",
    "        return b\n",
    "    gc=gcd(b%a,a)\n",
    "    x1=x\n",
    "    y1=y\n",
    "    x=y1-(b//a)*x1\n",
    "    y=x1\n",
    "    return gc\n",
    "def inverse(A,M):\n",
    "    g=gcd(A,M)\n",
    "    if(g!=1):\n",
    "        print(\"Inverse doesn't exist\")\n",
    "    else:\n",
    "        r=(x%M+M)%M\n",
    "        return r\n",
    "if __name__=='__main__':\n",
    "    print(inverse(187,13))"
   ]
  },
  {
   "cell_type": "code",
   "execution_count": 3,
   "metadata": {},
   "outputs": [
    {
     "name": "stdout",
     "output_type": "stream",
     "text": [
      "18\n"
     ]
    }
   ],
   "source": [
    "def isPrime(x):\n",
    "    for i in range(2,(x//2)+1):\n",
    "        if x%i==0:\n",
    "            return False\n",
    "    return True\n",
    "def primeFactors(x):\n",
    "    factors=[]\n",
    "    for i in range(2, (x//2)+1):\n",
    "        if x%i==0 and isPrime(i):\n",
    "            factors.append(i)\n",
    "    return factors\n",
    "def phi(x):\n",
    "    if isPrime(x):\n",
    "        return(x-1)\n",
    "    else:\n",
    "        f=primeFactors(x)\n",
    "        phi=x\n",
    "        for i in f:\n",
    "            phi=phi*(1-(1/i))\n",
    "    return phi\n",
    "if __name__=='__main__':\n",
    "    print(int(phi(19)))\n"
   ]
  },
  {
   "cell_type": "markdown",
   "metadata": {},
   "source": [
    "LAB-2"
   ]
  },
  {
   "cell_type": "code",
   "execution_count": 7,
   "metadata": {},
   "outputs": [
    {
     "name": "stdout",
     "output_type": "stream",
     "text": [
      "primitive roots of 997 are [7, 11, 17, 21, 26, 28, 29, 33, 38, 41, 43, 44, 46, 47, 51, 61, 63, 65, 68, 70, 78, 84, 87, 95, 98, 99, 103, 104, 106, 110, 112, 114, 115, 116, 118, 123, 127, 129, 132, 138, 141, 142, 143, 146, 152, 153, 154, 157, 158, 163, 164, 170, 172, 175, 176, 178, 179, 181, 183, 184, 188, 189, 191, 195, 202, 204, 210, 211, 214, 217, 233, 234, 239, 241, 242, 244, 245, 251, 260, 261, 262, 265, 271, 272, 273, 274, 275, 278, 280, 281, 285, 290, 293, 294, 295, 297, 298, 302, 309, 312, 317, 318, 323, 330, 336, 338, 341, 342, 345, 346, 347, 348, 354, 355, 364, 365, 367, 369, 371, 380, 381, 383, 385, 387, 389, 391, 392, 395, 396, 410, 412, 413, 414, 416, 419, 423, 424, 425, 426, 429, 430, 433, 438, 440, 445, 446, 448, 454, 456, 459, 460, 462, 463, 464, 469, 470, 471, 472, 474, 479, 481, 487, 489, 492, 505, 508, 510, 516, 518, 523, 525, 526, 527, 528, 533, 534, 535, 537, 538, 541, 543, 549, 551, 552, 557, 559, 564, 567, 568, 571, 572, 573, 574, 578, 581, 583, 584, 585, 587, 601, 602, 605, 606, 608, 610, 612, 614, 616, 617, 626, 628, 630, 632, 633, 642, 643, 649, 650, 651, 652, 655, 656, 659, 661, 667, 674, 679, 680, 685, 688, 695, 699, 700, 702, 703, 704, 707, 712, 716, 717, 719, 722, 723, 724, 725, 726, 732, 735, 736, 737, 746, 752, 753, 755, 756, 758, 763, 764, 780, 783, 786, 787, 793, 795, 802, 806, 808, 809, 813, 814, 816, 818, 819, 821, 822, 825, 827, 833, 834, 839, 840, 843, 844, 845, 851, 854, 855, 856, 859, 865, 868, 870, 874, 879, 881, 882, 883, 885, 887, 891, 893, 894, 898, 899, 902, 910, 913, 919, 927, 929, 932, 934, 936, 946, 950, 951, 953, 954, 956, 959, 964, 968, 969, 971, 976, 980, 986, 990]\n",
      "G value is 29\n",
      "prime number is 997\n",
      "sender's secret message is 87\n",
      "Receiver's secret message is 555\n",
      "The value of sender's public message is 872\n",
      "The value of receiver's public message is 288\n",
      "The value of senders key is 863 and the value of receiver's key is 863\n",
      "6.570717811584473\n"
     ]
    }
   ],
   "source": [
    "import random\n",
    "import time\n",
    "\n",
    "class Sender:\n",
    "    def __init__(self,n):\n",
    "        self.a=random.randint(1,n-1)\n",
    "    def sender(self,prime,g):\n",
    "        x=(g**self.a)%prime\n",
    "        return x\n",
    "    def senderKey(self,y,prime):\n",
    "        self.key=(y**self.a)%prime\n",
    "        return self.key\n",
    "    \n",
    "\n",
    "class Receiver:\n",
    "    def __init__(self,n):\n",
    "        self.b=random.randint(1,n-1)\n",
    "    def receiver(self,prime,g):\n",
    "        self.y=(g**self.b)%prime\n",
    "        return self.y\n",
    "    def receiverKey(self,x,prime):\n",
    "        self.key=(x**self.b)%prime\n",
    "        return self.key\n",
    "    \n",
    "\n",
    "def primitiveRoots(n):\n",
    "    l=[]\n",
    "    for i in range(1,n):\n",
    "        s=set()\n",
    "        for j in range(1,n):\n",
    "            s.add((i**j)%n)\n",
    "        if len(s)==n-1:\n",
    "            l.append(i)\n",
    "    return l\n",
    "\n",
    "def main(n):\n",
    "    pr=primitiveRoots(n)\n",
    "    print(f\"primitive roots of {n} are {pr}\")\n",
    "    i=random.randint(0,len(pr)-1)\n",
    "    g=pr[i]\n",
    "    print(f\"G value is {g}\")\n",
    "    print(f\"prime number is {n}\")\n",
    "    s=Sender(n)\n",
    "    r=Receiver(n)\n",
    "    print(f\"sender's secret message is {s.a}\")\n",
    "    print(f\"Receiver's secret message is {r.b}\")\n",
    "    x=s.sender(n,g)\n",
    "    y=r.receiver(n,g)\n",
    "    print(f\"The value of sender's public message is {x}\")\n",
    "    print(f\"The value of receiver's public message is {y}\")\n",
    "    k1=r.receiverKey(x,n)\n",
    "    k2=s.senderKey(y,n)\n",
    "    print(f\"The value of senders key is {k1} and the value of receiver's key is {k2}\")\n",
    "\n",
    "if __name__=='__main__':\n",
    "    st=time.time()\n",
    "    n=997\n",
    "    if isPrime(n):\n",
    "        main(n)\n",
    "    else:\n",
    "        print(\"The number is not prime\")\n",
    "    et=time.time()\n",
    "    print(et-st)\n"
   ]
  },
  {
   "cell_type": "code",
   "execution_count": 10,
   "metadata": {},
   "outputs": [
    {
     "name": "stdout",
     "output_type": "stream",
     "text": [
      "\n",
      "8\n",
      "[[24, 14], [20, 14]]\n"
     ]
    }
   ],
   "source": [
    "def det(n,m):\n",
    "    return (n[0][0]*n[1][1])-(n[0][1]*n[1][0])%m\n",
    "def coefMatrix(n):\n",
    "    k=n[0][0]\n",
    "    r=n[1][1]\n",
    "    n[0][0]=r\n",
    "    n[1][1]=k\n",
    "    n[0][1]*=-1\n",
    "    n[1][0]*=-1\n",
    "    return n\n",
    "k=[[5,8],[17,3]]\n",
    "m=26\n",
    "r=coefMatrix(k)\n",
    "d=det(k,m)\n",
    "print()\n",
    "if egcd(d,m)==1:\n",
    "    s=d\n",
    "    inv=inverse(m,s)\n",
    "    for i in range(0,len(k)):\n",
    "        for j in range(0,len(k[i])):\n",
    "            r[i][j]=(r[i][j]*inv)%26\n",
    "    print(r)\n"
   ]
  },
  {
   "cell_type": "markdown",
   "metadata": {},
   "source": [
    "LAB-3"
   ]
  },
  {
   "cell_type": "code",
   "execution_count": 10,
   "metadata": {},
   "outputs": [
    {
     "name": "stdout",
     "output_type": "stream",
     "text": [
      "Sent Message: 3\n",
      "The cipher text is: 38\n",
      "RECEIVED MESSAGE:3.0\n"
     ]
    }
   ],
   "source": [
    "# RSA Encryption\n",
    "import random\n",
    "class Sender:\n",
    "    def encrypt(m):\n",
    "        print(f\"Sent Message: {m}\")\n",
    "        Public.ciphertext=(m**Public.public_key_of_receiver)%Public.n\n",
    "        print(f\"The cipher text is: {Public.ciphertext}\")\n",
    "class Receiver:\n",
    "    def __init__(self,p,q):\n",
    "        Public.n=p*q\n",
    "        self.phin=phi(Public.n)\n",
    "        self.public_key=random.randint(1,self.phin)\n",
    "        while gcd(self.phin,self.public_key)!=1:\n",
    "            self.public_key=random.randint(1,self.phin)\n",
    "        Public.public_key_of_receiver=self.public_key\n",
    "        self.private_key=inverse(self.public_key,self.phin)\n",
    "    def decrypt(self):\n",
    "        k=Public.ciphertext\n",
    "        r=self.private_key\n",
    "        i=Public.n\n",
    "        self.message=(k**r)%i\n",
    "        print(f\"RECEIVED MESSAGE:{self.message}\")\n",
    "class Public:\n",
    "    def __init__(self):\n",
    "        pass\n",
    "if __name__=='__main__':\n",
    "    R=Receiver(11,7)\n",
    "    S=Sender\n",
    "    S.encrypt(3)\n",
    "    R.decrypt()\n"
   ]
  },
  {
   "cell_type": "code",
   "execution_count": 9,
   "metadata": {},
   "outputs": [
    {
     "name": "stdout",
     "output_type": "stream",
     "text": [
      "23\n"
     ]
    }
   ],
   "source": [
    "class A:\n",
    "    def __init__(self,a,m):\n",
    "        self.a=a\n",
    "        self.m=m\n",
    "    def calculate_parameters(self,M):\n",
    "        self.r=int(M/self.m)\n",
    "        self.y=inverse(self.r,self.m)\n",
    "class B:\n",
    "    def __init__(self,a,m):\n",
    "        self.a=a\n",
    "        self.m=m\n",
    "    def calculate_parameters(self,M):\n",
    "        self.r=int(M/self.m)\n",
    "        self.y=inverse(self.r,self.m)\n",
    "class C:\n",
    "    def __init__(self,a,m):\n",
    "        self.a=a\n",
    "        self.m=m\n",
    "    def calculate_parameters(self,M):\n",
    "        self.r=int(M/self.m)\n",
    "        self.y=inverse(self.r,self.m)\n",
    "if __name__=='__main__':\n",
    "    m1=A(2,3)\n",
    "    m2=B(3,5)\n",
    "    m3=C(2,7)\n",
    "    M=m1.m*m2.m*m3.m\n",
    "    m1.calculate_parameters(M)\n",
    "    m2.calculate_parameters(M)\n",
    "    m3.calculate_parameters(M)\n",
    "    \n",
    "    x=((m1.a*m1.r*m1.y)+(m2.a*m2.r*m2.y)+(m3.a*m3.r*m3.y))%M\n",
    "    print(x)"
   ]
  },
  {
   "cell_type": "code",
   "execution_count": 38,
   "metadata": {},
   "outputs": [
    {
     "name": "stdout",
     "output_type": "stream",
     "text": [
      "4.0\n",
      "4.0\n",
      "4.0\n"
     ]
    }
   ],
   "source": [
    "import random\n",
    "class person1:\n",
    "    def __init__(self,p,g,n):\n",
    "        self.p=p\n",
    "        self.group=g\n",
    "        self.e=random.randint(1,n)\n",
    "        self.n=n\n",
    "        l=public()\n",
    "        l.setgeval((g**self.e)%self.p)\n",
    "    def setr(self):\n",
    "        self.gp=public.g[2]\n",
    "        self.gn=public.g[1]\n",
    "        r=((self.gn/self.gp)**self.e)%self.p\n",
    "        l=public()\n",
    "        l.setrval(r)\n",
    "    def getKey(self):\n",
    "        self.k=(((self.gp)**(self.n*self.e))*(public.r[2]**(self.n-1))*(public.r[1]**(self.n-2)))%self.p\n",
    "        print(self.k)\n",
    "class person2:\n",
    "        def __init__(self,p,g,n):\n",
    "            self.p=p\n",
    "            self.group=g\n",
    "            self.e=random.randint(1,n)\n",
    "            l=public()\n",
    "            l.setgeval((g**self.e)%self.p)\n",
    "        def setr(self):\n",
    "            self.gp=public.g[0]\n",
    "            self.gn=public.g[2]\n",
    "            r=((self.gn/self.gp)**self.e)%self.p\n",
    "            l=public()\n",
    "            l.setrval(r)\n",
    "        def getKey(self):\n",
    "            self.k=(((self.gp)**(self.n*self.e))*(public.r[2]**(self.n-1))*(public.r[1]**(self.n-2)))%self.p\n",
    "            print(self.k)\n",
    "class person3:\n",
    "        def __init__(self,p,g,n):\n",
    "            self.p=p\n",
    "            self.group=g\n",
    "            self.e=random.randint(1,n)\n",
    "            l=public()\n",
    "            l.setgeval((g**self.e)%self.p)\n",
    "        def setr(self):\n",
    "            self.gp=public.g[1]\n",
    "            self.gn=public.g[0]\n",
    "            r=((self.gn/self.gp)**self.e)%self.p\n",
    "            l=public()\n",
    "            l.setrval(r)\n",
    "        def getKey(self):\n",
    "            self.k=(((self.gp)**(self.n*self.e))*(public.r[2]**(self.n-1))*(public.r[1]**(self.n-2)))%self.p\n",
    "            print(self.k)\n",
    "class public:\n",
    "    g=[]\n",
    "    r=[]\n",
    "    def setgeval(self,r):\n",
    "        self.g.append(r)\n",
    "    def setrval(self,r):\n",
    "         self.r.append(r)\n",
    "if __name__=='__main__':\n",
    "    prime=11\n",
    "    group=2\n",
    "    p1=person1(prime,group,3)\n",
    "    \n",
    "    p2=person1(prime,group,3)\n",
    "\n",
    "    p3=person1(prime,group,3)\n",
    "    \n",
    "    p1.setr()\n",
    "    p2.setr()\n",
    "    p3.setr()\n",
    "    p1.getKey()\n",
    "    p2.getKey()\n",
    "    p3.getKey()\n",
    "    "
   ]
  }
 ],
 "metadata": {
  "kernelspec": {
   "display_name": "Python 3",
   "language": "python",
   "name": "python3"
  },
  "language_info": {
   "codemirror_mode": {
    "name": "ipython",
    "version": 3
   },
   "file_extension": ".py",
   "mimetype": "text/x-python",
   "name": "python",
   "nbconvert_exporter": "python",
   "pygments_lexer": "ipython3",
   "version": "3.11.8"
  }
 },
 "nbformat": 4,
 "nbformat_minor": 2
}
